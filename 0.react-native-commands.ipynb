{
 "cells": [
  {
   "cell_type": "code",
   "execution_count": null,
   "id": "78c3afe8",
   "metadata": {
    "vscode": {
     "languageId": "plaintext"
    }
   },
   "outputs": [],
   "source": [
    "npm run android"
   ]
  },
  {
   "cell_type": "code",
   "execution_count": null,
   "id": "9c20eea9",
   "metadata": {
    "vscode": {
     "languageId": "plaintext"
    }
   },
   "outputs": [],
   "source": [
    "npx react-native start --reset-cache\n",
    "npm i --legacy-peer-deps\n",
    "\n"
   ]
  },
  {
   "cell_type": "code",
   "execution_count": null,
   "id": "6b64dbd6",
   "metadata": {
    "vscode": {
     "languageId": "plaintext"
    }
   },
   "outputs": [],
   "source": [
    "Optional (Clean Before Build):\n",
    "\n",
    "To clean previous builds first:\n",
    "\n",
    "cd android\n",
    "./gradlew clean\n",
    "./gradlew bundleRelease"
   ]
  },
  {
   "cell_type": "code",
   "execution_count": null,
   "id": "22f26849",
   "metadata": {
    "vscode": {
     "languageId": "plaintext"
    }
   },
   "outputs": [],
   "source": [
    "# Full Cache Reset (Recommended during weird build issues):\n",
    "\n",
    "watchman watch-del-all\n",
    "rm -rf node_modules\n",
    "rm -rf /tmp/metro-*\n",
    "rm -rf /tmp/haste-map-*\n",
    "rm -rf android/app/build\n",
    "rm -rf ios/DerivedData\n",
    "npm cache clean --force\n",
    "npm install\n",
    "npx react-native start --reset-cache"
   ]
  },
  {
   "cell_type": "code",
   "execution_count": null,
   "id": "80f90526",
   "metadata": {
    "vscode": {
     "languageId": "plaintext"
    }
   },
   "outputs": [],
   "source": [
    "✅ Summary of Useful Cache Commands\n",
    "Task\tCommand\n",
    "Reset Metro Bundler cache\tnpx react-native start --reset-cache\n",
    "Delete Watchman watches\twatchman watch-del-all\n",
    "Clear npm cache\tnpm cache clean --force\n",
    "Clear yarn cache\tyarn cache clean\n",
    "Delete node_modules\trm -rf node_modules\n",
    "Clean Android build\tcd android && ./gradlew clean"
   ]
  }
 ],
 "metadata": {
  "language_info": {
   "name": "python"
  }
 },
 "nbformat": 4,
 "nbformat_minor": 5
}
