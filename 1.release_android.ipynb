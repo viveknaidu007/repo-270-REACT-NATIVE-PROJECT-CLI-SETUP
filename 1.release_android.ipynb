{
 "cells": [
  {
   "cell_type": "markdown",
   "id": "f8e0be21",
   "metadata": {
    "vscode": {
     "languageId": "plaintext"
    }
   },
   "source": [
    "# apk release"
   ]
  },
  {
   "cell_type": "code",
   "execution_count": null,
   "id": "ddb4b355",
   "metadata": {
    "vscode": {
     "languageId": "plaintext"
    }
   },
   "outputs": [],
   "source": [
    "cd android\n",
    "./gradlew assembleRelease\n",
    "\n",
    "Output APK will be here:\n",
    "android/app/build/outputs/apk/release/app-release.apk\n"
   ]
  },
  {
   "cell_type": "code",
   "execution_count": null,
   "id": "8177611e",
   "metadata": {
    "vscode": {
     "languageId": "plaintext"
    }
   },
   "outputs": [],
   "source": [
    "2. Share the APK\n",
    "\n",
    "You can now send this app-release.apk file via:\n",
    "\n",
    "    WhatsApp\n",
    "\n",
    "    Email\n",
    "\n",
    "    Google Drive / Dropbox\n",
    "\n",
    "    Upload to your website\n",
    "\n",
    "    Share using AirDrop/Bluetooth\n",
    "\n",
    "    📦 The APK can be installed by anyone if they enable “Install from Unknown Sources” on their Android device."
   ]
  },
  {
   "cell_type": "code",
   "execution_count": null,
   "id": "8f1ecec5",
   "metadata": {
    "vscode": {
     "languageId": "plaintext"
    }
   },
   "outputs": [],
   "source": [
    "3. Install the APK on Another Device via ADB (optional)\n",
    "\n",
    "Connect the phone via USB with USB debugging enabled, then run:\n",
    "\n",
    "adb install android/app/build/outputs/apk/release/app-release.apk"
   ]
  },
  {
   "cell_type": "markdown",
   "id": "f35d9213",
   "metadata": {},
   "source": [
    "# ABB"
   ]
  },
  {
   "cell_type": "markdown",
   "id": "7fb619e0",
   "metadata": {},
   "source": [
    "cd android\n",
    "./gradlew bundleRelease"
   ]
  },
  {
   "cell_type": "code",
   "execution_count": null,
   "id": "74ba9332",
   "metadata": {
    "vscode": {
     "languageId": "plaintext"
    }
   },
   "outputs": [],
   "source": [
    "📦 Output:\n",
    "\n",
    "After the build is successful, your .aab will be located at:\n",
    "\n",
    "android/app/build/outputs/bundle/release/app-release.aab"
   ]
  },
  {
   "cell_type": "code",
   "execution_count": null,
   "id": "32ee7eae",
   "metadata": {
    "vscode": {
     "languageId": "plaintext"
    }
   },
   "outputs": [],
   "source": [
    "Optional (Clean Before Build):\n",
    "\n",
    "To clean previous builds first:\n",
    "\n",
    "cd android\n",
    "./gradlew clean\n",
    "./gradlew bundleRelease"
   ]
  },
  {
   "cell_type": "code",
   "execution_count": null,
   "id": "cfbc5ec7",
   "metadata": {
    "vscode": {
     "languageId": "plaintext"
    }
   },
   "outputs": [],
   "source": []
  }
 ],
 "metadata": {
  "language_info": {
   "name": "python"
  }
 },
 "nbformat": 4,
 "nbformat_minor": 5
}
